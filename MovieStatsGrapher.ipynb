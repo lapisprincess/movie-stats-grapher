{
 "cells": [
  {
   "cell_type": "code",
   "execution_count": 47,
   "id": "104e642c",
   "metadata": {},
   "outputs": [
    {
     "name": "stdout",
     "output_type": "stream",
     "text": [
      "employeeNumber\tlastName\tfirstName\textension\temail\tofficeCode\treportsTo\tjobTitle\n",
      "1002\tMurphy\tDiane\tx5800\tdmurphy@classicmodelcars.com\t1\t\tPresident\n",
      "1056\tPatterson\tMary\tx4611\tmpatterso@classicmodelcars.com\t1\t1002\tVP Sales\n",
      "1076\tFirrelli\tJeff\tx9273\tjfirrelli@classicmodelcars.com\t1\t1002\tVP Marketing\n",
      "1088\tPatterson\tWilliam\tx4871\twpatterson@classicmodelcars.com\t6\t1056\tSales Manager (APAC)\n",
      "1102\tBondur\tGerard\tx5408\tgbondur@classicmodelcars.com\t4\t1056\tSale Manager (EMEA)\n",
      "1143\tBow\tAnthony\tx5428\tabow@classicmodelcars.com\t1\t1056\tSales Manager (NA)\n",
      "1165\tJennings\tLeslie\tx3291\tljennings@classicmodelcars.com\t1\t1143\tSales Rep\n",
      "1166\tThompson\tLeslie\tx4065\tlthompson@classicmodelcars.com\t1\t1143\tSales Rep\n",
      "1188\tFirrelli\tJulie\tx2173\tjfirrelli@classicmodelcars.com\t2\t1143\tSales Rep\n",
      "1216\tPatterson\tSteve\tx4334\tspatterson@classicmodelcars.com\t2\t1143\tSales Rep\n",
      "1286\tTseng\tFoon Yue\tx2248\tftseng@classicmodelcars.com\t3\t1143\tSales Rep\n",
      "1323\tVanauf\tGeorge\tx4102\tgvanauf@classicmodelcars.com\t3\t1143\tSales Rep\n",
      "1337\tBondur\tLoui\tx6493\tlbondur@classicmodelcars.com\t4\t1102\tSales Rep\n",
      "1370\tHernandez\tGerard\tx2028\tghernande@classicmodelcars.com\t4\t1102\tSales Rep\n",
      "1401\tCastillo\tPamela\tx2759\tpcastillo@classicmodelcars.com\t4\t1102\tSales Rep\n",
      "1501\tBott\tLarry\tx2311\tlbott@classicmodelcars.com\t7\t1102\tSales Rep\n",
      "1504\tJones\tBarry\tx102\tbjones@classicmodelcars.com\t7\t1102\tSales Rep\n",
      "1611\tFixter\tAndy\tx101\tafixter@classicmodelcars.com\t6\t1088\tSales Rep\n",
      "1612\tMarsh\tPeter\tx102\tpmarsh@classicmodelcars.com\t6\t1088\tSales Rep\n",
      "1619\tKing\tTom\tx103\ttking@classicmodelcars.com\t6\t1088\tSales Rep\n",
      "1621\tNishi\tMami\tx101\tmnishi@classicmodelcars.com\t5\t1056\tSales Rep\n",
      "1625\tKato\tYoshimi\tx102\tykato@classicmodelcars.com\t5\t1621\tSales Rep\n",
      "1702\tGerard\tMartin\tx2312\tmgerard@classicmodelcars.com\t4\t1102\tSales Rep\n",
      "\n"
     ]
    },
    {
     "ename": "TypeError",
     "evalue": "'list' object is not callable",
     "output_type": "error",
     "traceback": [
      "\u001b[1;31m---------------------------------------------------------------------------\u001b[0m",
      "\u001b[1;31mTypeError\u001b[0m                                 Traceback (most recent call last)",
      "\u001b[1;32m~\\AppData\\Local\\Temp\\ipykernel_11068\\1133104758.py\u001b[0m in \u001b[0;36m<module>\u001b[1;34m\u001b[0m\n\u001b[0;32m     19\u001b[0m \u001b[0mprint\u001b[0m\u001b[1;33m(\u001b[0m\u001b[0mdata\u001b[0m\u001b[1;33m)\u001b[0m\u001b[1;33m\u001b[0m\u001b[1;33m\u001b[0m\u001b[0m\n\u001b[0;32m     20\u001b[0m \u001b[0mlists\u001b[0m \u001b[1;33m=\u001b[0m \u001b[0mdata\u001b[0m\u001b[1;33m.\u001b[0m\u001b[0msplit\u001b[0m\u001b[1;33m(\u001b[0m\u001b[1;34m\"\\n\"\u001b[0m\u001b[1;33m)\u001b[0m\u001b[1;33m\u001b[0m\u001b[1;33m\u001b[0m\u001b[0m\n\u001b[1;32m---> 21\u001b[1;33m \u001b[0marrayData\u001b[0m \u001b[1;33m=\u001b[0m \u001b[0mlist\u001b[0m\u001b[1;33m(\u001b[0m\u001b[0mrange\u001b[0m\u001b[1;33m(\u001b[0m\u001b[1;36m10\u001b[0m\u001b[1;33m)\u001b[0m\u001b[1;33m)\u001b[0m\u001b[1;33m\u001b[0m\u001b[1;33m\u001b[0m\u001b[0m\n\u001b[0m\u001b[0;32m     22\u001b[0m \u001b[1;33m\u001b[0m\u001b[0m\n\u001b[0;32m     23\u001b[0m \u001b[1;32mfor\u001b[0m \u001b[0mi\u001b[0m \u001b[1;32min\u001b[0m \u001b[0mrange\u001b[0m\u001b[1;33m(\u001b[0m\u001b[0mlen\u001b[0m\u001b[1;33m(\u001b[0m\u001b[0mlista\u001b[0m\u001b[1;33m)\u001b[0m\u001b[1;33m-\u001b[0m\u001b[1;36m1\u001b[0m\u001b[1;33m)\u001b[0m\u001b[1;33m:\u001b[0m\u001b[1;33m\u001b[0m\u001b[1;33m\u001b[0m\u001b[0m\n",
      "\u001b[1;31mTypeError\u001b[0m: 'list' object is not callable"
     ]
    }
   ],
   "source": [
    "import matplotlib as mpl\n",
    "import numpy as np\n",
    "import matplotlib.pyplot as plt\n",
    "import scipy as scipy\n",
    "import array\n",
    "\n",
    "#\n",
    "# import data set in two columns\n",
    "# data=np.loadtxt(\"MOV3171data.txt\")\n",
    "# data1=np.array(data)\n",
    "# x=np.array(data1[:,0])\n",
    "# y=np.array(data1[:,1])\n",
    "#\n",
    "# make up a data set\n",
    "#\n",
    "\n",
    "file = open('employees.txt', 'r')\n",
    "data = file.read()\n",
    "print(data)\n",
    "lists = data.split(\"\\n\")\n",
    "arrayData = list(range(10))\n",
    "\n",
    "for i in range(len(lista)-1):\n",
    "    temp = lists[i].split(\"\\t\")\n",
    "    arrayData.append(temp)\n",
    "    print(arrayData)\n",
    "x = []\n",
    "y = []\n",
    "    \n",
    "\n",
    "fig1,ax1=plt.subplots(figsize=(6,6))\n",
    "plt.bar(x, y, width=1, color='blue')\n",
    "#ax1.hist(z,bins=50,range=(0,10),density=False,log=False, color=\"lightpink\", label=\"Data Sets\") #change first value to get different data\n",
    "plt.legend(loc='best')\n",
    "plt.title(\"Quantinization with Oil Drops (All Data)\")\n",
    "plt.xlabel('charge')\n",
    "plt.ylabel('normalized number of occurences')"
   ]
  },
  {
   "cell_type": "code",
   "execution_count": 8,
   "id": "7d1fa6a9",
   "metadata": {},
   "outputs": [
    {
     "data": {
      "image/png": "[encoded data removed]",
      "text/plain": [
       "<Figure size 640x480 with 1 Axes>"
      ]
     },
     "metadata": {},
     "output_type": "display_data"
    }
   ],
   "source": [
    "import matplotlib.pyplot as plt\n",
    "\n",
    "# Create some data\n",
    "data = [\"A\", \"B\", \"C\"]\n",
    "values = [1, 2, 3]\n",
    "\n",
    "# Create the bar graph\n",
    "plt.bar(data, values)\n",
    "\n",
    "# Show the plot\n",
    "plt.show()"
   ]
  }
 ],
 "metadata": {
  "kernelspec": {
   "display_name": "Python 3 (ipykernel)",
   "language": "python",
   "name": "python3"
  },
  "language_info": {
   "codemirror_mode": {
    "name": "ipython",
    "version": 3
   },
   "file_extension": ".py",
   "mimetype": "text/x-python",
   "name": "python",
   "nbconvert_exporter": "python",
   "pygments_lexer": "ipython3",
   "version": "3.9.13"
  }
 },
 "nbformat": 4,
 "nbformat_minor": 5
}
